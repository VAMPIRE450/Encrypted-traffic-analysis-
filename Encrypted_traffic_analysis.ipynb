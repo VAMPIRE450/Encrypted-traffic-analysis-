{
  "nbformat": 4,
  "nbformat_minor": 0,
  "metadata": {
    "colab": {
      "provenance": []
    },
    "kernelspec": {
      "name": "python3",
      "display_name": "Python 3"
    },
    "language_info": {
      "name": "python"
    }
  },
  "cells": [
    {
      "cell_type": "code",
      "execution_count": 6,
      "metadata": {
        "colab": {
          "base_uri": "https://localhost:8080/"
        },
        "id": "3-IIePCFeFYW",
        "outputId": "a0152fd5-535d-4c62-c41e-73a5dcfa4907"
      },
      "outputs": [
        {
          "output_type": "stream",
          "name": "stdout",
          "text": [
            "PCAP file not found at C:/Users/Resham/OneDrive/Documents/sample.pcap.\n"
          ]
        }
      ],
      "source": [
        "import socket\n",
        "import dpkt\n",
        "import datetime\n",
        "import os\n",
        "\n",
        "# Define a class for Encrypted Traffic Analysis\n",
        "class EncryptedTrafficAnalyzer:\n",
        "    def _init_(self, pcap_file):\n",
        "        self.pcap_file = pcap_file\n",
        "\n",
        "    def analyze_traffic(self):\n",
        "        try:\n",
        "            with open(self.pcap_file, 'rb') as f:\n",
        "                pcap = dpkt.pcap.Reader(f)\n",
        "                self.process_pcap(pcap)\n",
        "        except Exception as e:\n",
        "            print(f\"Error reading PCAP file: {e}\")\n",
        "\n",
        "    def process_pcap(self, pcap):\n",
        "        for timestamp, buf in pcap:\n",
        "            try:\n",
        "                eth = dpkt.ethernet.Ethernet(buf)\n",
        "                if not isinstance(eth.data, dpkt.ip.IP):\n",
        "                    continue\n",
        "                ip = eth.data\n",
        "                if not isinstance(ip.data, dpkt.tcp.TCP):\n",
        "                    continue\n",
        "                tcp = ip.data\n",
        "                self.analyze_packet(timestamp, ip, tcp)\n",
        "            except Exception as e:\n",
        "                print(f\"Error processing packet: {e}\")\n",
        "\n",
        "    def analyze_packet(self, timestamp, ip, tcp):\n",
        "        try:\n",
        "            src_ip = socket.inet_ntoa(ip.src)\n",
        "            dst_ip = socket.inet_ntoa(ip.dst)\n",
        "            src_port = tcp.sport\n",
        "            dst_port = tcp.dport\n",
        "            is_encrypted = self.detect_encrypted(tcp)\n",
        "            time = datetime.datetime.utcfromtimestamp(timestamp)\n",
        "            print(f\"Time: {time}, Src: {src_ip}:{src_port}, Dst: {dst_ip}:{dst_port}, Encrypted: {is_encrypted}\")\n",
        "        except Exception as e:\n",
        "            print(f\"Error analyzing packet: {e}\")\n",
        "\n",
        "    def detect_encrypted(self, tcp):\n",
        "        try:\n",
        "            if len(tcp.data) > 0 and tcp.data[:3] != b\"GET\" and tcp.data[:3] != b\"POS\":\n",
        "                return True\n",
        "            return False\n",
        "        except Exception as e:\n",
        "            print(f\"Error detecting encryption: {e}\")\n",
        "            return False\n",
        "\n",
        "\n",
        "# Main function for the script\n",
        "def main():\n",
        "    pcap_path = \"C:/Users/Resham/OneDrive/Documents/sample.pcap\"  # Replace with your PCAP file path\n",
        "    if not os.path.exists(pcap_path):\n",
        "        print(f\"PCAP file not found at {pcap_path}.\")\n",
        "        return\n",
        "\n",
        "    analyzer = EncryptedTrafficAnalyzer(pcap_path)\n",
        "    analyzer.analyze_traffic()\n",
        "\n",
        "\n",
        "if __name__ == \"__main__\":\n",
        "    main()"
      ]
    },
    {
      "cell_type": "code",
      "source": [
        "pip install dpkt"
      ],
      "metadata": {
        "colab": {
          "base_uri": "https://localhost:8080/"
        },
        "id": "nftxfSSUeLDa",
        "outputId": "c5aaf630-0f2c-42c0-e036-dfae3f873150"
      },
      "execution_count": 2,
      "outputs": [
        {
          "output_type": "stream",
          "name": "stdout",
          "text": [
            "Collecting dpkt\n",
            "  Downloading dpkt-1.9.8-py3-none-any.whl.metadata (1.7 kB)\n",
            "Downloading dpkt-1.9.8-py3-none-any.whl (194 kB)\n",
            "\u001b[?25l   \u001b[90m━━━━━━━━━━━━━━━━━━━━━━━━━━━━━━━━━━━━━━━━\u001b[0m \u001b[32m0.0/195.0 kB\u001b[0m \u001b[31m?\u001b[0m eta \u001b[36m-:--:--\u001b[0m\r\u001b[2K   \u001b[91m━━━━━━━━━━━━━━━━━━\u001b[0m\u001b[91m╸\u001b[0m\u001b[90m━━━━━━━━━━━━━━━━━━━━━\u001b[0m \u001b[32m92.2/195.0 kB\u001b[0m \u001b[31m3.6 MB/s\u001b[0m eta \u001b[36m0:00:01\u001b[0m\r\u001b[2K   \u001b[90m━━━━━━━━━━━━━━━━━━━━━━━━━━━━━━━━━━━━━━━━\u001b[0m \u001b[32m195.0/195.0 kB\u001b[0m \u001b[31m3.3 MB/s\u001b[0m eta \u001b[36m0:00:00\u001b[0m\n",
            "\u001b[?25hInstalling collected packages: dpkt\n",
            "Successfully installed dpkt-1.9.8\n"
          ]
        }
      ]
    }
  ]
}